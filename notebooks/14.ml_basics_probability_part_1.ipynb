{
 "cells": [
  {
   "cell_type": "code",
   "execution_count": 59,
   "metadata": {
    "collapsed": true
   },
   "outputs": [],
   "source": [
    "import numpy as np\n",
    "import matplotlib.pyplot as plt\n",
    "import seaborn as sns\n",
    "from pylab import rcParams\n",
    "from itertools import chain, combinations, compress\n",
    "\n",
    "%matplotlib inline"
   ]
  },
  {
   "cell_type": "code",
   "execution_count": 5,
   "metadata": {},
   "outputs": [],
   "source": [
    "sns.set(style='whitegrid', palette='muted', font_scale=1.5)\n",
    "\n",
    "rcParams['figure.figsize'] = 14, 8\n",
    "\n",
    "RANDOM_SEED = 42"
   ]
  },
  {
   "cell_type": "markdown",
   "metadata": {},
   "source": [
    "The real world is a messy place! Sometimes ha\n",
    "\n",
    "# Probability spaces\n",
    "\n",
    "## Analogy\n",
    "\n",
    "## Diagram\n",
    "\n",
    "## Example\n",
    "\n",
    "## Plain English\n",
    "\n",
    "## Technical Definition\n",
    "\n",
    "`Probability space` is defined by three components - $(\\Omega, \\mathcal{E}, \\mathcal{P})$ sample space, event space and probability function\n",
    "\n",
    "### Sample space\n",
    "\n",
    "Sample space is a set of all possible outcomes of the experiment you are performing.\n",
    "\n",
    "*Example:* You have to choose the color for an icon for your new app. You have two options - green or red. So, you decide to create a little expirement - ask 2 of your friends. Here is the state space for this problem:"
   ]
  },
  {
   "cell_type": "code",
   "execution_count": 64,
   "metadata": {},
   "outputs": [
    {
     "data": {
      "text/plain": [
       "['GG', 'GR', 'RG', 'RR']"
      ]
     },
     "execution_count": 64,
     "metadata": {},
     "output_type": "execute_result"
    }
   ],
   "source": [
    "omega = [\n",
    "    \"GG\",\n",
    "    \"GR\",\n",
    "    \"RG\",\n",
    "    \"RR\"\n",
    "]\n",
    "omega"
   ]
  },
  {
   "cell_type": "markdown",
   "metadata": {},
   "source": [
    "That's all possibilites for the outcome of your experiment. You can think of $\\Omega$ as the \"context\" of your experiment. That means that it does not in itself define the experiment.\n",
    "\n",
    "Different elements should be distinct and mutually exclusive.\n",
    "\n",
    "### Event space\n",
    "\n",
    "An event is a subset of $\\Omega$. An example of event would be \"at least one green icon\":"
   ]
  },
  {
   "cell_type": "code",
   "execution_count": 65,
   "metadata": {},
   "outputs": [
    {
     "data": {
      "text/plain": [
       "{'GG', 'GR', 'RG'}"
      ]
     },
     "execution_count": 65,
     "metadata": {},
     "output_type": "execute_result"
    }
   ],
   "source": [
    "at_least_one_green = {o for o in omega if 'G' in o}\n",
    "at_least_one_green"
   ]
  },
  {
   "cell_type": "markdown",
   "metadata": {},
   "source": [
    "In probability theory, the event space $\\mathcal{E}$ is modeled as a $\\sigma$-algebra of $\\Omega$, which is a collection of subsets of $\\Omega$ with these properties:\n",
    "\n",
    "1. $\\emptyset \\in \\mathcal{E}$\n",
    "2. If an event $A \\in \\mathcal{E}$, then $A^\\complement \\in \\mathcal{E}$\n",
    "3. If $A_1, A_2,... \\in \\mathcal{E}$, then $\\bigcup\\limits_{i=1}^{\\infty} A_{i} \\in \\mathcal{E}$"
   ]
  },
  {
   "cell_type": "code",
   "execution_count": 66,
   "metadata": {
    "collapsed": true
   },
   "outputs": [],
   "source": [
    "def powerset(x):\n",
    "    for subset in chain.from_iterable(combinations(x, r) for r in range(len(x)+1)):\n",
    "        yield set(subset)"
   ]
  },
  {
   "cell_type": "markdown",
   "metadata": {},
   "source": [
    "To obtain all possible events of your state space you must compute the power set:"
   ]
  },
  {
   "cell_type": "code",
   "execution_count": 67,
   "metadata": {},
   "outputs": [
    {
     "name": "stdout",
     "output_type": "stream",
     "text": [
      "set()\n",
      "{'GG'}\n",
      "{'GR'}\n",
      "{'RG'}\n",
      "{'RR'}\n",
      "{'GG', 'GR'}\n",
      "{'RG', 'GG'}\n",
      "{'GG', 'RR'}\n",
      "{'RG', 'GR'}\n",
      "{'GR', 'RR'}\n",
      "{'RG', 'RR'}\n",
      "{'RG', 'GG', 'GR'}\n",
      "{'GG', 'RR', 'GR'}\n",
      "{'RG', 'GG', 'RR'}\n",
      "{'RG', 'GR', 'RR'}\n",
      "{'RG', 'GG', 'RR', 'GR'}\n"
     ]
    }
   ],
   "source": [
    "for e in powerset(omega):\n",
    "    print(e)"
   ]
  },
  {
   "cell_type": "markdown",
   "metadata": {},
   "source": [
    "You can see that the empty set and $\\Omega$ itself are contained within the event space. That space is large, though, we don't need most of these events. That's why we will select the ones we care about and add more until we get a $\\sigma$-algebra ($\\sigma$-field).\n",
    "\n",
    "### Probability function\n",
    "\n",
    "The probability function $\\mathcal{P}$ assigns a real numbers (probability) to each event in $\\mathcal{E}$. It is a function $\\mathcal{E} \\mapsto [0,1]$ mapping satisfying the three axioms:\n",
    "\n",
    "1. For all $e \\in \\mathcal{E}$, $P(e) \\ge 0$\n",
    "2. $P(\\Omega) = 1$\n",
    "3. If $\\mathcal{E}_n, n \\in \\mathbb{N}$, is a sequence of pairwise disjoint events $(\\mathcal{E}_i\\cap e_j=\\emptyset \\text{ whenever } i\\neq j)$, then $P\\left(\\bigcup_{i=1}^{\\infty} \\mathcal{E}_i\\right) = \\sum_{i=1}^{\\infty} P(\\mathcal{E}_i)$.\n",
    "\n",
    "Let's define a probability function for our sample space $\\Omega$:"
   ]
  },
  {
   "cell_type": "code",
   "execution_count": 68,
   "metadata": {},
   "outputs": [],
   "source": [
    "p = [1/2, 1/4, 1/8, 1/8]"
   ]
  },
  {
   "cell_type": "markdown",
   "metadata": {},
   "source": [
    "Our function must sum to 1:"
   ]
  },
  {
   "cell_type": "code",
   "execution_count": 69,
   "metadata": {},
   "outputs": [
    {
     "data": {
      "text/plain": [
       "1.0"
      ]
     },
     "execution_count": 69,
     "metadata": {},
     "output_type": "execute_result"
    }
   ],
   "source": [
    "sum(p)"
   ]
  },
  {
   "cell_type": "markdown",
   "metadata": {},
   "source": [
    "Let's define an event:"
   ]
  },
  {
   "cell_type": "code",
   "execution_count": 72,
   "metadata": {},
   "outputs": [],
   "source": [
    "A = [1, 0, 1, 0]"
   ]
  },
  {
   "cell_type": "code",
   "execution_count": 75,
   "metadata": {},
   "outputs": [
    {
     "data": {
      "text/plain": [
       "['GG', 'RG']"
      ]
     },
     "execution_count": 75,
     "metadata": {},
     "output_type": "execute_result"
    }
   ],
   "source": [
    "event_states = list(compress(omega, A))\n",
    "event_states"
   ]
  },
  {
   "cell_type": "markdown",
   "metadata": {},
   "source": [
    "And compute the probability of that event occuring:"
   ]
  },
  {
   "cell_type": "code",
   "execution_count": 74,
   "metadata": {},
   "outputs": [
    {
     "data": {
      "text/plain": [
       "0.625"
      ]
     },
     "execution_count": 74,
     "metadata": {},
     "output_type": "execute_result"
    }
   ],
   "source": [
    "sum(list(compress(p, A)))"
   ]
  },
  {
   "cell_type": "markdown",
   "metadata": {},
   "source": [
    "### Discrete Probability Spaces\n",
    "\n",
    "Let's consider a simpler case where the sample space $\\Omega$ is finite or countable. A discrete probability space is a triplet $(\\Omega, \\mathcal{E}, \\mathcal{P})$ such that:\n",
    "\n",
    "1. The sample space $\\Omega$ is finite or countable: $\\Omega = \\{w_1, w_2,...\\}$\n",
    "2. The $\\sigma$-field $\\mathcal{E}$ is the set of all subsets of $\\Omega$\n",
    "3. The probability measure assigns a number in the set $[0, 1]$ to every subset\n",
    "of $\\Omega$. It is defined in terms of the probabilities $\\mathcal{P}(\\{\\omega\\})$ of the elementary\n",
    "outcomes, and satisfies\n",
    "$$P(A) = \\sum_{\\omega \\in A}\\mathcal{P}(\\{\\omega\\})$$\n",
    "for every $A \\in \\Omega$ and\n",
    "$$\\sum_{\\omega \\in \\Omega}\\mathcal{P}(\\{\\omega\\}) = 1$$\n",
    "\n",
    "We will often denote $\\mathcal{P}\\{\\omega_i\\}$ by $p_i$"
   ]
  }
 ],
 "metadata": {
  "kernelspec": {
   "display_name": "Python 3",
   "language": "python",
   "name": "python3"
  },
  "language_info": {
   "codemirror_mode": {
    "name": "ipython",
    "version": 3
   },
   "file_extension": ".py",
   "mimetype": "text/x-python",
   "name": "python",
   "nbconvert_exporter": "python",
   "pygments_lexer": "ipython3",
   "version": "3.6.1"
  }
 },
 "nbformat": 4,
 "nbformat_minor": 2
}
