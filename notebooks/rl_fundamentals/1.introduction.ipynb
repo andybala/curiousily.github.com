{
 "cells": [
  {
   "cell_type": "markdown",
   "metadata": {},
   "source": [
    "Remember the first time you went behind the wheel of a car? Your dad, mom or driving instructor was next to you, waiting for you to mess something up. You had a clear goal - make a couple of turns and get to the supermarket for ice cream. The task was infinitely more fun if you had to learn to drive stick. Ah, good times. Too bad that your kids might never experience that. More on that later.\n",
    "\n",
    "# What is Reinforcement Learning?\n",
    "\n",
    "Reinforcement learning (RL) is learning what to do, given a situation and a set of possible actions to choose from, in order to maximize a reward. The learner, which we will call agent, is not told what to do, he must discover this by himself by interacting with the environment. The goal is to choose its actions in such a way that the cumulative reward is maximized. So, choosing the best reward now, might not be the best decision, in the long run. That is greedy approaches might not be optimal. The problem can be represented by the following diagram:\n",
    "\n",
    "![](https://phrasee.co/wp-content/uploads/2016/08/reinforcement-learning.gif)\n",
    "\n",
    "Back to you, behind the wheel with running engine, properly strapped seatbelt, adrenaline pumping and rerunning the latest Fast & Furious through your mind - you have a good feeling about this, the passenger next to you does not look that scared, after all...\n",
    "\n",
    "How all of this relates to RL? Let's try to map your situation to an RL problem. Driving is really complex, so for your first lesson, your instructor will do everything, except turning the wheel. The environment is the nature itself and the agent is you. The state of the environment (situation) can be defined by the position of your car, surrounding cars, pedestrians, upcoming crossroads etc. You have 3 possible actions to choose from - turn left, keep straight and turn right. The reward is well defined - you will eat ice cream if you are able to reach the supermarket. Your instructor will give your intermediate rewards based on your performance."
   ]
  },
  {
   "cell_type": "markdown",
   "metadata": {},
   "source": [
    "# Examples of Reinforcement Learning\n",
    "\n",
    "Let's have a look at some example applications of RL:\n",
    "\n",
    "## Cart-Pole Balancing\n",
    "\n",
    "<img src=\"https://danielpiedrahita.files.wordpress.com/2017/02/cart-pole.png\" width=\"25%\"/>\n",
    "\n",
    "- **Goal** - Balance the pole on top of a moving cart <br/></br><br/>\n",
    "\n",
    "- **State** - angle, angular speed, position, horizontal velocity\n",
    "- **Actions** - horizontal force to the cart\n",
    "- **Reward** - 1 at each time step if the pole is upright\n",
    "\n",
    "## Atari Games\n",
    "\n",
    "<img src=\"https://i.ytimg.com/vi/V1eYniJ0Rnk/maxresdefault.jpg\" width=\"50%\" />\n",
    "\n",
    "- **Goal** - Beat the game with the highest score<br/></br><br/>\n",
    "\n",
    "- **State** - Raw game pixels of the game\n",
    "- **Actions** - Up, Down, Left, Right etc\n",
    "- **Reward** - Score provided by the game\n",
    "\n",
    "## DOOM\n",
    "\n",
    "<img src=\"https://www.cmu.edu/news/stories/archives/2016/september/images/vizdoom_853x480-min.jpg\" width=\"50%\" />\n",
    "\n",
    "- **Goal** - Eliminate all opponents<br/></br><br/>\n",
    "\n",
    "- **State** - Raw game pixels of the game\n",
    "- **Actions** - Up, Down, Left, Right etc\n",
    "- **Reward** - Positive when eliminating an opponent, negative when the agent is eliminated\n",
    "\n",
    "## Training robots for Bin Packing\n",
    "\n",
    "<img src=\"http://www.plasticsdist.com/equipment/robotic/robotic_inages/fanuc420a_packaging_md.jpg\" width=\"50%\" />\n",
    "\n",
    "- **Goal** - Pick a device from a box and put it into a container<br/></br><br/>\n",
    "\n",
    "- **State** - Raw pixels of the real world\n",
    "- **Actions** - Possible actions of the robot\n",
    "- **Reward** - Positive when placing a device successfully, negative otherwise"
   ]
  },
  {
   "cell_type": "code",
   "execution_count": null,
   "metadata": {},
   "outputs": [],
   "source": []
  }
 ],
 "metadata": {
  "kernelspec": {
   "display_name": "Python 3",
   "language": "python",
   "name": "python3"
  },
  "language_info": {
   "codemirror_mode": {
    "name": "ipython",
    "version": 3
   },
   "file_extension": ".py",
   "mimetype": "text/x-python",
   "name": "python",
   "nbconvert_exporter": "python",
   "pygments_lexer": "ipython3",
   "version": "3.6.1"
  }
 },
 "nbformat": 4,
 "nbformat_minor": 2
}
