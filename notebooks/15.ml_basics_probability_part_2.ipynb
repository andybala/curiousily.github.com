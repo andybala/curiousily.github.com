{
 "cells": [
  {
   "cell_type": "code",
   "execution_count": 2,
   "metadata": {
    "collapsed": true
   },
   "outputs": [],
   "source": [
    "import numpy as np\n",
    "import matplotlib.pyplot as plt\n",
    "import seaborn as sns\n",
    "from pylab import rcParams\n",
    "from itertools import chain, combinations, compress\n",
    "\n",
    "%matplotlib inline"
   ]
  },
  {
   "cell_type": "code",
   "execution_count": 3,
   "metadata": {},
   "outputs": [],
   "source": [
    "sns.set(style='whitegrid', palette='muted', font_scale=1.5)\n",
    "\n",
    "rcParams['figure.figsize'] = 14, 8\n",
    "\n",
    "RANDOM_SEED = 42"
   ]
  },
  {
   "cell_type": "markdown",
   "metadata": {},
   "source": [
    "# Random Variables\n",
    "\n",
    "## Analogy\n",
    "\n",
    "## Diagram\n",
    "\n",
    "<img src=\"https://www.mathsisfun.com/data/images/random-variable-1.svg\" width=\"50%\"/>\n",
    "\n",
    "## Example\n",
    "\n",
    "## Plain English\n",
    "\n",
    "Random variables provides us with a numerical value, depending on the outcome of an experiment. Random variables allow us to map outcomes of random processes to a number.\n",
    "\n",
    "## Technical Definition\n",
    "\n",
    "A Random Varible (RV) X is a function from the sample space $\\Omega$ to the real numbers $X: \\Omega \\mapsto \\mathbb{R}$. Assuming $e \\subset \\mathbb{R}$  we denote the event $\\{\\omega\\in\\Omega: X(\\omega)\\in \\mathcal{E}\\}\\subset\\Omega$ by $X \\in \\mathcal{E}$.\n",
    "\n",
    "<img src=\"http://theanalysisofdata.com/probability/png/RV.png\" width=\"40%\"/>\n",
    "\n",
    "We will typically denote RVs using capital letters - X, Y, Z.\n",
    "\n",
    "### Some Concepts Related to Random Variables\n",
    "\n",
    "1. A function of random variable defines another random variable\n",
    "2. We can associate certain properties with each random variable, such as the *mean* and the *variance*\n",
    "3. A random variable can be conditioned on event or another random variable\n",
    "\n",
    "### Discrete Random Variables\n",
    "\n",
    "A discrete random variable whose values range over a finite or countably infinite set. The most important kind of discrete random variable is one that is supported on the integers or a subset of the integers. Any discrete random variable can be converted into one that uses integers by enumerating the possible values. Let's see an example that you are very likely familiar with: "
   ]
  },
  {
   "cell_type": "code",
   "execution_count": 5,
   "metadata": {
    "scrolled": true
   },
   "outputs": [
    {
     "data": {
      "text/plain": [
       "True"
      ]
     },
     "execution_count": 5,
     "metadata": {},
     "output_type": "execute_result"
    }
   ],
   "source": [
    "X = [1, 0]\n",
    "X[0] == True"
   ]
  },
  {
   "cell_type": "markdown",
   "metadata": {},
   "source": [
    "The value of \"True\" is assigned to 1 and \"False\" is usually assigned to 0.\n",
    "\n",
    "#### Some Concepts Related to Discrete Random Variables\n",
    "\n",
    "1. A discrete RV has an associated probability mass function (PMF), which gives the probability of each numerical value the RV can take\n",
    "2. A function of a discrete RV defines another discrete RV, whose PMF can be obtained from the PMF of the original RV\n",
    "\n",
    "#### Probability Mass Functions (PMFs)\n",
    "\n",
    "PMFs give us a way to define a discrete RV through the probabilities of the values that it can take. For a discrete random variable $X$, we will denote the PMF of $X$ with $px$. If $\\mathcal{x}$ is any possible value of $X$, the probability mass of $\\mathcal{x}$ denoted $px(\\mathcal{x})$ is the probability of the event $\\{X = \\mathcal{x}\\}$ consisting of all outcomes that give rise to a value of $X$ equal to $\\mathcal{x}$:\n",
    "$$px(\\mathcal{x})=P(\\{X = \\mathcal{x}\\})$$\n",
    "\n",
    "### Continious Random Variables\n",
    "\n",
    "### Random Variable Distributions"
   ]
  }
 ],
 "metadata": {
  "kernelspec": {
   "display_name": "Python 3",
   "language": "python",
   "name": "python3"
  },
  "language_info": {
   "codemirror_mode": {
    "name": "ipython",
    "version": 3
   },
   "file_extension": ".py",
   "mimetype": "text/x-python",
   "name": "python",
   "nbconvert_exporter": "python",
   "pygments_lexer": "ipython3",
   "version": "3.6.1"
  }
 },
 "nbformat": 4,
 "nbformat_minor": 2
}
