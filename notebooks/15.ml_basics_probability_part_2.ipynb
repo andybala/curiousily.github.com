{
 "cells": [
  {
   "cell_type": "code",
   "execution_count": 7,
   "metadata": {
    "collapsed": true
   },
   "outputs": [],
   "source": [
    "import numpy as np\n",
    "import matplotlib.pyplot as plt\n",
    "import seaborn as sns\n",
    "import pandas as pd\n",
    "from pylab import rcParams\n",
    "from itertools import chain, combinations, compress\n",
    "\n",
    "%matplotlib inline"
   ]
  },
  {
   "cell_type": "code",
   "execution_count": 28,
   "metadata": {},
   "outputs": [],
   "source": [
    "sns.set(style='whitegrid', palette='muted', font_scale=1.5)\n",
    "\n",
    "rcParams['figure.figsize'] = 14, 8\n",
    "\n",
    "plt.xkcd()\n",
    "\n",
    "RANDOM_SEED = 42"
   ]
  },
  {
   "cell_type": "markdown",
   "metadata": {},
   "source": [
    "# Random Variables\n",
    "\n",
    "## Analogy\n",
    "\n",
    "## Diagram\n",
    "\n",
    "<img src=\"https://www.mathsisfun.com/data/images/random-variable-1.svg\" width=\"50%\"/>\n",
    "\n",
    "## Example\n",
    "\n",
    "## Plain English\n",
    "\n",
    "Random variables provides us with a numerical value, depending on the outcome of an experiment. Random variables allow us to map outcomes of random processes to a number.\n",
    "\n",
    "## Technical Definition\n",
    "\n",
    "A Random Varible (RV) X is a function from the sample space $\\Omega$ to the real numbers $X: \\Omega \\mapsto \\mathbb{R}$. Assuming $e \\subset \\mathbb{R}$  we denote the event $\\{\\omega\\in\\Omega: X(\\omega)\\in \\mathcal{E}\\}\\subset\\Omega$ by $X \\in \\mathcal{E}$.\n",
    "\n",
    "<img src=\"http://theanalysisofdata.com/probability/png/RV.png\" width=\"40%\"/>\n",
    "\n",
    "We will typically denote RVs using capital letters - X, Y, Z.\n",
    "\n",
    "### Some Concepts Related to Random Variables\n",
    "\n",
    "1. A function of random variable defines another random variable\n",
    "2. We can associate certain properties with each random variable, such as the *mean* and the *variance*\n",
    "3. A random variable can be conditioned on event or another random variable\n",
    "\n",
    "### Discrete Random Variables\n",
    "\n",
    "A discrete random variable whose values range over a finite or countably infinite set. The most important kind of discrete random variable is one that is supported on the integers or a subset of the integers. Any discrete random variable can be converted into one that uses integers by enumerating the possible values. Let's see an example that you are very likely familiar with: "
   ]
  },
  {
   "cell_type": "code",
   "execution_count": 5,
   "metadata": {
    "scrolled": true
   },
   "outputs": [
    {
     "data": {
      "text/plain": [
       "True"
      ]
     },
     "execution_count": 5,
     "metadata": {},
     "output_type": "execute_result"
    }
   ],
   "source": [
    "X = [1, 0]\n",
    "X[0] == True"
   ]
  },
  {
   "cell_type": "markdown",
   "metadata": {},
   "source": [
    "The value of \"True\" is assigned to 1 and \"False\" is usually assigned to 0.\n",
    "\n",
    "#### Some Concepts Related to Discrete Random Variables\n",
    "\n",
    "1. A discrete RV has an associated probability mass function (PMF), which gives the probability of each numerical value the RV can take\n",
    "2. A function of a discrete RV defines another discrete RV, whose PMF can be obtained from the PMF of the original RV\n",
    "\n",
    "#### Probability Mass Functions (PMFs)\n",
    "\n",
    "PMFs give us a way to define a discrete RV through the probabilities of the values that it can take. For a discrete random variable $X$, we will denote the PMF of $X$ with $px$. If $\\mathcal{x}$ is any possible value of $X$, the probability mass of $\\mathcal{x}$ denoted $px(\\mathcal{x})$ is the probability of the event $\\{X = \\mathcal{x}\\}$ consisting of all outcomes that give rise to a value of $X$ equal to $\\mathcal{x}$:\n",
    "\n",
    "$$px(\\mathcal{x})=P(\\{X = \\mathcal{x}\\})$$\n",
    "\n",
    "Note that\n",
    "\n",
    "$$\\sum_{\\mathcal{x}}px(\\mathcal{x}) = 1$$\n",
    "\n",
    "where $\\mathcal{x}$ ranges over all possible numerical values of $X$.\n",
    "\n",
    "Let's return to the example of choosing color for the app icon. We have two colors - red and green and two friends. Our experiment will consist of asking our two friends to choose a color. Let $X$ be number of red icons chosen. The PMF of $X$ is:\n",
    "\n",
    "$$\n",
    "px(\\mathcal{x}) = \n",
    "     \\begin{cases}\n",
    "       1/4, &\\quad\\text{if x = 0 or x = 2,}\\\\\n",
    "       1/2, &\\quad\\text{if x =1,}\\\\\n",
    "       0, &\\quad\\text{otherwise}.\n",
    "     \\end{cases}\n",
    "$$\n",
    "\n",
    "Let's translate that into Python:"
   ]
  },
  {
   "cell_type": "code",
   "execution_count": 17,
   "metadata": {},
   "outputs": [
    {
     "data": {
      "text/html": [
       "<div>\n",
       "<style>\n",
       "    .dataframe thead tr:only-child th {\n",
       "        text-align: right;\n",
       "    }\n",
       "\n",
       "    .dataframe thead th {\n",
       "        text-align: left;\n",
       "    }\n",
       "\n",
       "    .dataframe tbody tr th {\n",
       "        vertical-align: top;\n",
       "    }\n",
       "</style>\n",
       "<table border=\"1\" class=\"dataframe\">\n",
       "  <thead>\n",
       "    <tr style=\"text-align: right;\">\n",
       "      <th></th>\n",
       "      <th>x</th>\n",
       "      <th>y</th>\n",
       "    </tr>\n",
       "  </thead>\n",
       "  <tbody>\n",
       "    <tr>\n",
       "      <th>0</th>\n",
       "      <td>-1</td>\n",
       "      <td>0.00</td>\n",
       "    </tr>\n",
       "    <tr>\n",
       "      <th>1</th>\n",
       "      <td>0</td>\n",
       "      <td>0.25</td>\n",
       "    </tr>\n",
       "    <tr>\n",
       "      <th>2</th>\n",
       "      <td>1</td>\n",
       "      <td>0.50</td>\n",
       "    </tr>\n",
       "    <tr>\n",
       "      <th>3</th>\n",
       "      <td>2</td>\n",
       "      <td>0.25</td>\n",
       "    </tr>\n",
       "    <tr>\n",
       "      <th>4</th>\n",
       "      <td>3</td>\n",
       "      <td>0.00</td>\n",
       "    </tr>\n",
       "  </tbody>\n",
       "</table>\n",
       "</div>"
      ],
      "text/plain": [
       "   x     y\n",
       "0 -1  0.00\n",
       "1  0  0.25\n",
       "2  1  0.50\n",
       "3  2  0.25\n",
       "4  3  0.00"
      ]
     },
     "execution_count": 17,
     "metadata": {},
     "output_type": "execute_result"
    }
   ],
   "source": [
    "X = pd.DataFrame({\n",
    "    'x': [-1, 0, 1, 2, 3], \n",
    "    'y': [0, 1/4, 1/2, 1/4, 0]\n",
    "})\n",
    "X"
   ]
  },
  {
   "cell_type": "code",
   "execution_count": 29,
   "metadata": {},
   "outputs": [
    {
     "data": {
      "image/png": "[encoded data removed]",
      "text/plain": [
       "<matplotlib.figure.Figure at 0x10e9dbe80>"
      ]
     },
     "metadata": {},
     "output_type": "display_data"
    }
   ],
   "source": [
    "ax = X.plot(kind='bar',x='x', y='y', legend=False, rot=0)\n",
    "ax.set_ylabel(\"$p_X(\\mathcal{x})$\");"
   ]
  },
  {
   "cell_type": "markdown",
   "metadata": {},
   "source": [
    "#### Cumulative Distribution Functions (CDFs)\n",
    "\n",
    "Let $X$ be a random variable. The function $F_X: \\mathbb{R} \\mapsto [0, 1]$ defined by\n",
    "\n",
    "$$F_X(\\mathcal{x}) = P(X \\le \\mathcal{x}),$$\n",
    "\n",
    "is called the cumulative distribution function (CDF) of $X$.\n",
    "\n",
    "The CDF of a RV always posseses certain properties. Let $X$ be a random variable and $F$ be its CDF, then:\n",
    "\n",
    "1. If $x \\le y$, then $F_x(\\mathcal{x}) \\le F_x(y)$ **(Monotonicity)**\n",
    "2. We have $\\lim_{\\mapsto - \\infty}F_X(\\mathcal{x}) \\le F_X(y)$ **(Limiting values)**\n",
    "3. For every $\\mathcal{x}$, we have $\\lim_{y \\downarrow x}F_X(y) = F_X(\\mathcal{x})$ **(Right-continuity)**\n",
    "\n",
    "### Continious Random Variables\n",
    "\n",
    "### Random Variable Distributions\n",
    "\n",
    "#### Uniform Distribution\n",
    "\n",
    "#### Geometric Distribution\n",
    "\n",
    "#### Binomial Distribution"
   ]
  }
 ],
 "metadata": {
  "kernelspec": {
   "display_name": "Python 3",
   "language": "python",
   "name": "python3"
  },
  "language_info": {
   "codemirror_mode": {
    "name": "ipython",
    "version": 3
   },
   "file_extension": ".py",
   "mimetype": "text/x-python",
   "name": "python",
   "nbconvert_exporter": "python",
   "pygments_lexer": "ipython3",
   "version": "3.6.1"
  }
 },
 "nbformat": 4,
 "nbformat_minor": 2
}
