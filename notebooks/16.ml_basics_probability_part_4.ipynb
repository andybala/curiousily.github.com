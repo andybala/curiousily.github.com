{
 "cells": [
  {
   "cell_type": "code",
   "execution_count": 1,
   "metadata": {
    "collapsed": true
   },
   "outputs": [],
   "source": [
    "import numpy as np\n",
    "import matplotlib.pyplot as plt\n",
    "import seaborn as sns\n",
    "import pandas as pd\n",
    "from pylab import rcParams\n",
    "\n",
    "%matplotlib inline"
   ]
  },
  {
   "cell_type": "code",
   "execution_count": 2,
   "metadata": {
    "collapsed": true
   },
   "outputs": [],
   "source": [
    "sns.set(style='whitegrid', palette='muted', font_scale=1.5)\n",
    "\n",
    "rcParams['figure.figsize'] = 14, 8\n",
    "\n",
    "plt.xkcd()\n",
    "\n",
    "RANDOM_SEED = 42"
   ]
  },
  {
   "cell_type": "markdown",
   "metadata": {},
   "source": [
    "# Conditional Probability\n",
    "\n",
    "## Analogy\n",
    "\n",
    "## Diagram\n",
    "\n",
    "## Example\n",
    "\n",
    "## Plain English\n",
    "\n",
    "Conditional probability gives us a way of computing the probability of something happening given something else already did happen.\n",
    "\n",
    "## Technical Definition\n",
    "\n",
    "Suppose we know that the outcome of a given an experiment is within some event $B$. We wish to quantify the likelihood that the outcome also belongs to some other event $A$. We seek to construct a probability law that for any event $A$, specifies the conditional probability of $A$ given $B$, denoted by $P(A|B)$ and defined as:\n",
    "\n",
    "$$P(A|B) = \\frac{P(A \\cap B)}{P(B)}$$\n",
    "\n",
    "where we assume that $P(B) > 0$, otherwise the conditional probability is undefined. In other words, out of the total probability of $P(B)$, $P(A|B)$ is the fraction of possible outcomes that also belong to $A$.\n",
    "\n",
    "### Properties of Conditional Probability\n",
    "\n",
    "- Conditional probabilities can be viewed as a probability law on a new universe $B$, since all of the probability is concentrated on $B$.\n",
    "- The conditional probability of $P(A|B)$ when the possible outcomes are finitely many and equally likely is given by\n",
    "\n",
    "$$P(A|B) = \\frac{\\text{number of elements}\\, A \\cap B}{\\text{number of elements}\\, B}$$\n",
    "\n",
    "### Multiplication Rule\n",
    "\n",
    "If we're interested in the probability that two events $A$ and $B$ both occur, we can rewrite the conditional probabiliy definition as follows:\n",
    "\n",
    "$$P(A \\cap B)=P(B)P(A|B)=P(A)P(B|A)$$\n",
    "\n",
    "this is called the **multiplication rule**. This format is particularly useful in situations when we know the conditional probability, but we are interested in the probability of the intersection.\n",
    "\n",
    "### Conditional PMFs\n",
    "\n",
    "- The conditional PMF of $X$ given an event $A$ with $P(A) > 0$, is defined by\n",
    "\n",
    "$$p_{X|A}(x) = P(X = x|A)$$\n",
    "\n",
    "and satisfies\n",
    "\n",
    "$$\\sum_x p_{X|A}(x) = 1.$$"
   ]
  }
 ],
 "metadata": {
  "kernelspec": {
   "display_name": "Python 3",
   "language": "python",
   "name": "python3"
  },
  "language_info": {
   "codemirror_mode": {
    "name": "ipython",
    "version": 3
   },
   "file_extension": ".py",
   "mimetype": "text/x-python",
   "name": "python",
   "nbconvert_exporter": "python",
   "pygments_lexer": "ipython3",
   "version": "3.6.1"
  }
 },
 "nbformat": 4,
 "nbformat_minor": 2
}
