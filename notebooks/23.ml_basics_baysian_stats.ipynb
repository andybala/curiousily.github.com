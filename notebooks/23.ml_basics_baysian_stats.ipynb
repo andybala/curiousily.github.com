{
 "cells": [
  {
   "cell_type": "markdown",
   "metadata": {},
   "source": [
    "# Бейсов модел за взимане на решения\n",
    "\n",
    "## Нотация\n",
    "\n",
    "- $\\theta$ сл.в. (параметър) от която се интересуваме\n",
    "- $y$ данните, които сме наблюдавали\n",
    "- $\\hat{y}$ - данни, които не сме наблюдавали\n",
    "\n",
    "Заключенията в Бейсовият анализ относно параметър $\\theta$ или ненаблюдавани данни $\\hat{y}$ се извършват чрез вероятностни твърдения. Те са условни спрямо наблюдаваните стойност на $y$ и се записват като $p(\\theta \\mid y)$ или $p(\\hat{y} \\mid y)$. Полученото разпределение се нарича апостериорно.\n",
    "\n",
    "## Правило на Бейс\n",
    "\n",
    "Правилото на Бейс ни дава подход за получаване на апостериорно разпределение, като използваме априорно разпределение и наблюдавани данни:\n",
    "\n",
    "$$p(\\theta \\mid y) = \\frac{p(\\theta, y)}{p(y)}=\\frac{p(y \\mid \\theta)p(\\theta)}{p(y)}$$\n",
    "\n",
    "където $p(y) = \\sum_{\\theta}p(y \\mid \\theta)p(\\theta)$ е сума над всички възможни стойности на $\\theta$ и се нарича доказателство. $p(\\theta)$ е априорно разпределение, а $p(y \\mid \\theta)p(\\theta)$ се нарича функция на правдоподобие.\n",
    "\n",
    "Еквивалентна форма на правилото по-горе пропуска изцяло знаменателя $p(y)$ (който не зависи от $\\theta$) като приравнява $y$ \n",
    "на константа. Така получаваме ненормализирано апостериорно разпределение:\n",
    "\n",
    "$$p(\\theta \\mid y) \\propto p(y \\mid \\theta)p(\\theta)$$\n",
    "\n",
    "Знаменателят в правилото на Бейс се нарича също маргинална функция на правдоподобие. Терминът идва от взимането на средната стойност на функцията на правдоподобие, $p(y \\mid \\theta)$, за всички стойности на $\\theta$ като се вземе впредвид априорното разпределение на $\\theta$.\n",
    "\n",
    "Правилото на Бейс може да бъде използвано и върху непрекъснати стойности. Когато имаме такъв случай трябва да представим знаменателя като интеграл:\n",
    "\n",
    "$$p(y) = \\int p(y \\mid \\theta)p(\\theta)\\delta \\theta$$\n",
    "\n",
    "В практиката, непрекъснатата форма е много по-често използвана.\n",
    "\n",
    "### Как получаваме правилото на Бейс\n",
    "\n",
    "Нека имаме две зависими събития $A$ и $B$, тогава условната вероятност за $A$ при дадено $B$ е:\n",
    "\n",
    "$$P(A \\mid B) = \\frac{P (A \\cap B)}{p(B)} $$\n",
    "\n",
    "Еквивалентно за $P(B \\mid A)$ имаме:\n",
    "\n",
    "$$P(B \\mid A) = \\frac{P (B \\cap A)}{p(A)} \\\\\n",
    "\\implies P (A \\cap B) = P (A \\mid B) \\times P(B) = P (B \\mid A) \\times P(A) \\\\\n",
    "\\implies P (A \\mid B) = \\frac{P(B \\mid A) \\times P(A)}{P(B)}\n",
    "$$\n",
    "\n",
    "### Априорно разпределение\n",
    "\n",
    "Априорното разпределение $p(\\theta)$ ни дава вероятността за всяка отделна стойност на $\\theta$ без да са взети под предвид данните $y$. То ни позволява да добавяме информация към задачата , което може да подобри (или влоши) оценката на параметрите.\n",
    "\n",
    "#### Информативни и неинформативни априорни разпределения\n",
    "\n",
    "Априорни разпределения, които доминират над ФП са информативни. Тяхното влияние намаля с увеличаване размера на извадката.\n",
    "\n",
    "### Функция на правдоподобие\n",
    "\n",
    "Функцията на правдоподобие (ФП) ни дава вероятността данните да са генерирани от модел със стойност на параметъра $\\theta$. ФП изразява информацията, която се съдържа в данните. Всяко събитие, което не се е случило, няма влияние върху изводите (заключенията).\n",
    "\n",
    "Нека $y_i, i= 1, \\ldots , m$ са наблюденията. ФП дефинираме като:\n",
    "\n",
    "$$L(y \\mid \\theta) = \\prod_{i=1}^m f(y_i \\mid \\theta)$$\n",
    "\n",
    "където $\\theta$ е p-мерен вектор, а $f(y_i \\mid \\theta)$ е вероятностна плътност.\n",
    "\n",
    "### Апостериорно разпределение\n",
    "\n",
    "Апостериорното разпределение $p(\\theta \\mid y)$ обобщава всичката информация, която имаме за $\\theta$. Понякога е полезно това разпределение да бъде редуцирано до няколко важни метрики.\n",
    "\n",
    "**Интервал с най-голяма плътност (highest density interval (HDI))** се нарича интервал, зададен с някаква точност (обикновено 95%), в които се намира основната част от плътността на апостериорното разпределение\n",
    "\n",
    "#### Влияние на големината на извадката\n",
    "\n",
    "Бейсовият анализ ни дава възможност да използваме извадка с произволна големина. Когато броят на наблюденията в извадката е малък, апостериорното разпределение има голяма дисперсия (т.е. HDI е по-широк). Големи извадки дават по-добра прецизност и достоверност на оценката.\n",
    "\n",
    "#### Влияние на априорното разпределение\n",
    "\n",
    "Когато имаме априорно разпределение с голяма дисперия (неиформативно) спрямо това на функцията на правдоподобие, изборът на априорно разпределение има малък ефект върху апостериорното разпределение. Избор на силно информирано априорно разпределение води до нужда от много данни за промяна на разпределението. Със слабо информирано априорно разпределение, промяната на апостериорното разпределение изисква малко данни.\n",
    "\n",
    "#### Спрегнатост (conjugacy)\n",
    "\n",
    "Някои комбинации от априорни разпределения и ФП водят до същите фамилии от апостериорни разпределения. Например:\n",
    "\n",
    "- За поасонова ФП и гама априорно разпределение, апостериорното разпределение на $\\theta$ също е гама.\n",
    "- За биномна ФП и бета априорно разпределение, апостериорното разпределение е бета.\n",
    "\n",
    "### Предсказване\n",
    "\n",
    "При правенето на статистически изводи се цели добиване на информация относно $\\theta$. Бейсовата рамка предлага т.нар. *предсказваща дистрибуция*. Тя описва доколко вероятни са различните изходи върху нови наблюдения.\n",
    "\n",
    "Нека $y^*$ е ново наблюдение. Ние можем да определим разпределението на $y^*$ по два начина:\n",
    "\n",
    "$$p(y^* \\mid y) = \\int L(y^* \\mid \\theta)p(\\theta \\mid y)\\delta \\theta$$\n",
    "\n",
    "където априорното разпределение $p(\\theta \\mid y)$ определя приноса на наблюдаваните данни за предсказването. $p(y^* \\mid y)$ се нарича **апостериорно предсказващо разпределение**. То може да се дефинира и като маргиналното разпределение на $y^*$:\n",
    "\n",
    "$$p(y^* \\mid y) = \\int L(y^* \\mid \\theta)p(\\theta)\\delta \\theta$$\n",
    "\n",
    "без да отчитаме информацията, която носят данните.\n",
    "\n",
    "## Йерархични модели\n",
    "\n",
    "Нека имаме задача която може да се моделира като модел с много параметри. Съвместното вероятностно разпределение на тези параметри отразява зависимостите им. За получаване на апостериорно разпределение просто прилагаме правилото на Бейс върху това вероятностно разпределение.\n",
    "\n",
    "Нека $\\theta$ и $\\omega$ са параметри. Правилото на Бейс може да бъде приложено върху съвместното вероятностно разпределение:\n",
    "\n",
    "$$p(\\theta,\\omega \\mid y) \\propto p(y \\mid \\theta, \\omega)p(\\theta, \\omega)$$\n",
    "\n",
    "Интересно за йерархичните модели е, че дясната страна може да се представи като редица от зависимости:\n",
    "\n",
    "$$p(\\theta,\\omega \\mid y) \\propto p(y \\mid \\theta, \\omega)p(\\theta, \\omega) = p(y \\mid \\theta)p(\\theta \\mid \\omega)p(\\omega)$$\n",
    "\n",
    "Това означава, че наблюденията зависят само от стойността на $\\theta$. Допълнително, $\\theta$ зависи само от стойността на $\\omega$ и е условно независима от всички други параметри. Всеки модел, който може да бъде представен като редица от зависимости е йерархичен.\n",
    "\n",
    "Зависимостите между параметрите са полезни поради няколко причини. Поради тези зависимостите, наблюденията оказват влияние върху всички параметри. Зависимостите може да улеснят извличането на извадки от апостериорното разпределение, защото някои алгоритми (Gibbs sampling) може да се възползват от условните вероятностни разпределения.\n",
    "\n",
    "## Проверка за адекватност на модел\n",
    "\n",
    "След като получим апостериорното разпределение трябва да отговорим на един много важен въпрос: До колко адектватен е полученият модел? Един добър Бейсов анализ би следвало да включва проверка адекватност на получения модел спрямо наблюденията.\n",
    "\n",
    "### Апостериорни извадки\n",
    "\n",
    "За нуждите за изследване на дадено апостериорно разпределение ще използваме данни (извадка) от него. Извадките от апостериорното разпределение са основно средство за изучаване на това разпределение.\n",
    "\n",
    "Нека $\\theta^*_{ij}, j=1, \\ldots, m_p$ е извадка от $p(\\theta \\mid y)$ с обем $m_p$. Тогава оценката на апостериорното средно е:\n",
    "\n",
    "$$\\hat{E}\\theta_i = \\frac{\\sum_{j=1}^{m_p}\\theta^*_{ij}}{m_p}$$\n",
    "\n",
    "и апостериорната дисперсия е:\n",
    "\n",
    "$$\\hat{D}\\theta_i=\\frac{1}{m_p - 1}\\sum_{j=1}^{m_p}(\\theta^*_{ij} - \\hat{\\theta_i}^2)$$\n",
    "\n",
    "### Монте Карло методи\n",
    "\n",
    "Често в практиката бейсовите модели имат две или повече нива. Поради тази причина за намирането на апостериорно разпределение се използват извадкови алгоритми.\n",
    "\n",
    "MCMC методите са фамилия от способи за симулация на стойностите на параметрите в една Марковска верига. Намиране на апостериорно разпределение става чрез намиране на стационарно разпределение за веригата. Тези методи генерират извадка от апостериорното разпределение $p(\\theta \\mid y)$.\n",
    "\n",
    "Два алгоритъма за намиране на апостериорно разпределение чрез MCMC методи са Metropolis Hastings и Gibbs sampling.\n",
    "\n",
    "### Адекватност\n",
    "\n",
    "Ще наричаме **остатъци** разликата между наблюдаваните и предсказани стойности:\n",
    "\n",
    "$$r_i = y_i - \\hat{y_i} \\qquad и \\qquad r_i^s=\\frac{r_i}{\\sqrt{\\hat{D}r_i}}$$\n",
    "\n",
    "Сравняването на остатъци от различни модели ни позволява да направим сравнение между самите модели.\n",
    "\n",
    "## Защо подходът може да е труден за прилагане\n",
    "\n",
    "Намиране на апостериорно разпределение директно от правилото на Бейс изисква изчисляване на маргиналното правдоподобие. В общият случай, когато имаме непрекъснати параметри е възможно получения интеграл да бъде нерешим аналитично. Един подход, който се опитва да реши този проблем е апроксимирането на интеграли, но той не се справя добре, когато броя на параметрите е голям (обикновено над 1,000). В практиката, най-често използвания подход е симулация и добиване на извадка от апостериорното разпределение посредством MCMC."
   ]
  },
  {
   "cell_type": "code",
   "execution_count": 1,
   "metadata": {},
   "outputs": [
    {
     "data": {
      "image/png": "[encoded data removed]",
      "text/plain": [
       "<matplotlib.figure.Figure at 0x10467ca58>"
      ]
     },
     "metadata": {},
     "output_type": "display_data"
    }
   ],
   "source": [
    "%matplotlib inline\n",
    "\n",
    "import edward as ed\n",
    "import matplotlib.pyplot as plt\n",
    "import matplotlib.cm as cm\n",
    "from matplotlib.colors import ListedColormap, Normalize\n",
    "from matplotlib.animation import FuncAnimation\n",
    "from tempfile import NamedTemporaryFile\n",
    "from IPython.display import HTML\n",
    "import seaborn as sns\n",
    "import numpy as np\n",
    "import six\n",
    "import tensorflow as tf\n",
    "\n",
    "plt.style.use('seaborn-talk')\n",
    "sns.set_context(\"talk\", font_scale=1.4)\n",
    "# sns.set_palette(\"colorblind\")\n",
    "sess = ed.get_session()\n",
    "\n",
    "sns.palplot(sns.color_palette())"
   ]
  },
  {
   "cell_type": "code",
   "execution_count": 2,
   "metadata": {},
   "outputs": [],
   "source": [
    "ed.set_seed(42)"
   ]
  },
  {
   "cell_type": "code",
   "execution_count": 3,
   "metadata": {},
   "outputs": [],
   "source": [
    "from edward.models import Bernoulli, Beta, Empirical, Uniform"
   ]
  },
  {
   "cell_type": "code",
   "execution_count": 4,
   "metadata": {},
   "outputs": [],
   "source": [
    "N = 100  # number of coin flip observations in dataset"
   ]
  },
  {
   "cell_type": "code",
   "execution_count": 5,
   "metadata": {},
   "outputs": [],
   "source": [
    "def build_fair_dataset(N):\n",
    "    pheads = tf.constant(0.5)\n",
    "    c = Bernoulli(probs=pheads, sample_shape=N)\n",
    "    return sess.run([pheads, c])"
   ]
  },
  {
   "cell_type": "code",
   "execution_count": 6,
   "metadata": {},
   "outputs": [],
   "source": [
    "def build_unfair_dataset(N):\n",
    "    pheads = tf.constant(0.05)\n",
    "    c = Bernoulli(probs=pheads, sample_shape=N)\n",
    "    return sess.run([pheads, c])"
   ]
  },
  {
   "cell_type": "code",
   "execution_count": 7,
   "metadata": {},
   "outputs": [],
   "source": [
    "def build_dataset(N):\n",
    "    pheads = Uniform(low=0.0, high=1.0)\n",
    "    c = Bernoulli(probs=pheads, sample_shape=N)\n",
    "    return sess.run([pheads, c])"
   ]
  },
  {
   "cell_type": "code",
   "execution_count": 8,
   "metadata": {},
   "outputs": [
    {
     "data": {
      "text/plain": [
       "(-0.2, 1.2)"
      ]
     },
     "execution_count": 8,
     "metadata": {},
     "output_type": "execute_result"
    },
    {
     "data": {
      "image/png": "[encoded data removed]",
      "text/plain": [
       "<matplotlib.figure.Figure at 0x114132208>"
      ]
     },
     "metadata": {},
     "output_type": "display_data"
    }
   ],
   "source": [
    "x = tf.range(-0.2, 1.2, 0.001)\n",
    "plt.plot(*sess.run([x, Uniform(low=0.0, high=1.0).prob(x)]))\n",
    "#plt.plot(*sess.run([x, Beta(concentration1=1.0, concentration0=1.0).prob(x)]));\n",
    "plt.ylim((-0.2, 1.2))"
   ]
  },
  {
   "cell_type": "code",
   "execution_count": 9,
   "metadata": {},
   "outputs": [],
   "source": [
    "pheads_true, c_train = build_fair_dataset(N)"
   ]
  },
  {
   "cell_type": "code",
   "execution_count": 10,
   "metadata": {},
   "outputs": [
    {
     "data": {
      "text/plain": [
       "0.5"
      ]
     },
     "execution_count": 10,
     "metadata": {},
     "output_type": "execute_result"
    }
   ],
   "source": [
    "pheads_true"
   ]
  },
  {
   "cell_type": "code",
   "execution_count": 11,
   "metadata": {},
   "outputs": [
    {
     "data": {
      "text/plain": [
       "array([1, 1, 1, 0, 0, 1, 1, 1, 0, 1, 0, 0, 1, 0, 0, 0, 1, 0, 0, 0, 0, 1, 0,\n",
       "       1, 1, 0, 0, 1, 0, 0, 1, 0, 1, 0, 1, 1, 0, 1, 1, 1, 1, 0, 0, 0, 1, 1,\n",
       "       1, 0, 0, 0, 0, 0, 1, 1, 1, 0, 1, 0, 1, 1, 0, 0, 1, 1, 1, 0, 0, 0, 1,\n",
       "       0, 1, 0, 0, 1, 1, 0, 0, 1, 1, 1, 0, 0, 1, 1, 1, 0, 0, 0, 1, 0, 0, 1,\n",
       "       1, 1, 1, 0, 0, 1, 0, 1], dtype=int32)"
      ]
     },
     "execution_count": 11,
     "metadata": {},
     "output_type": "execute_result"
    }
   ],
   "source": [
    "c_train"
   ]
  },
  {
   "cell_type": "code",
   "execution_count": 12,
   "metadata": {},
   "outputs": [
    {
     "data": {
      "text/plain": [
       "50"
      ]
     },
     "execution_count": 12,
     "metadata": {},
     "output_type": "execute_result"
    }
   ],
   "source": [
    "sum(c_train == 0)"
   ]
  },
  {
   "cell_type": "code",
   "execution_count": 13,
   "metadata": {},
   "outputs": [
    {
     "data": {
      "text/plain": [
       "50"
      ]
     },
     "execution_count": 13,
     "metadata": {},
     "output_type": "execute_result"
    }
   ],
   "source": [
    "sum(c_train == 1)"
   ]
  },
  {
   "cell_type": "code",
   "execution_count": 14,
   "metadata": {},
   "outputs": [],
   "source": [
    "pheads_fair = Beta(concentration1=1000.0, concentration0=1000.0)  # blue\n",
    "pheads_unfair = Beta(concentration1=0.1, concentration0=0.1)  # green\n",
    "pheads_unknown = Beta(concentration1=1.0, concentration0=1.0)  # red"
   ]
  },
  {
   "cell_type": "code",
   "execution_count": 15,
   "metadata": {},
   "outputs": [
    {
     "data": {
      "image/png": "[encoded data removed]",
      "text/plain": [
       "<matplotlib.figure.Figure at 0x1145dcf28>"
      ]
     },
     "metadata": {},
     "output_type": "display_data"
    }
   ],
   "source": [
    "x = tf.range(0.0, 1.0, 0.001)\n",
    "plt.plot(*sess.run([x, pheads_fair.prob(x)]))\n",
    "plt.plot(*sess.run([x, pheads_unfair.prob(x)]))\n",
    "plt.plot(*sess.run([x, pheads_unknown.prob(x)]))\n",
    "plt.axvline(x=pheads_true);"
   ]
  },
  {
   "cell_type": "code",
   "execution_count": 16,
   "metadata": {},
   "outputs": [],
   "source": [
    "pheads = pheads_unknown\n",
    "c = Bernoulli(probs=pheads, sample_shape=N)"
   ]
  },
  {
   "cell_type": "code",
   "execution_count": 17,
   "metadata": {},
   "outputs": [],
   "source": [
    "pheads_cond = ed.complete_conditional(pheads)\n",
    "pheads_post = ed.copy(pheads_cond, {c: c_train})"
   ]
  },
  {
   "cell_type": "code",
   "execution_count": 18,
   "metadata": {},
   "outputs": [
    {
     "data": {
      "text/plain": [
       "{'concentration0': 51.0, 'concentration1': 51.0}"
      ]
     },
     "execution_count": 18,
     "metadata": {},
     "output_type": "execute_result"
    }
   ],
   "source": [
    "sess.run({key: val for\n",
    "          key, val in six.iteritems(pheads_post.parameters)\n",
    "          if isinstance(val, tf.Tensor)})"
   ]
  },
  {
   "cell_type": "code",
   "execution_count": 19,
   "metadata": {},
   "outputs": [
    {
     "name": "stdout",
     "output_type": "stream",
     "text": [
      "Exact posterior mean:\n",
      "0.5\n",
      "Exact posterior std:\n",
      "0.0492665\n"
     ]
    }
   ],
   "source": [
    "mean, stddev = sess.run([pheads_post.mean(), pheads_post.stddev()])\n",
    "print(\"Exact posterior mean:\")\n",
    "print(mean)\n",
    "print(\"Exact posterior std:\")\n",
    "print(stddev)"
   ]
  },
  {
   "cell_type": "code",
   "execution_count": 20,
   "metadata": {},
   "outputs": [
    {
     "data": {
      "image/png": "[encoded data removed]",
      "text/plain": [
       "<matplotlib.figure.Figure at 0x1142631d0>"
      ]
     },
     "metadata": {},
     "output_type": "display_data"
    }
   ],
   "source": [
    "x = tf.range(0.0, 1.0, 0.001)\n",
    "plt.plot(*sess.run([x, pheads.prob(x)]));  # blue\n",
    "plt.plot(*sess.run([x, pheads_post.prob(x)]));  # green\n",
    "plt.axvline(x=pheads_true);  # blue"
   ]
  },
  {
   "cell_type": "code",
   "execution_count": 21,
   "metadata": {},
   "outputs": [
    {
     "data": {
      "image/png": "[encoded data removed]",
      "text/plain": [
       "<matplotlib.figure.Figure at 0x114470240>"
      ]
     },
     "metadata": {},
     "output_type": "display_data"
    }
   ],
   "source": [
    "\n",
    "# this can take a minute\n",
    "fig = plt.figure()\n",
    "ax = plt.axes(xlim=(-0.05, 1.05), ylim=(-1.0, 11.0))\n",
    "\n",
    "def go(pheads_prior, sample_shape, c_train):\n",
    "    # MODEL\n",
    "    c = Bernoulli(probs=pheads_prior,\n",
    "                  sample_shape=sample_shape)\n",
    "    # INFERENCE\n",
    "    pheads_cond = ed.complete_conditional(pheads_prior)\n",
    "    pheads_post = ed.copy(pheads_cond, {c: c_train[:sample_shape]})\n",
    "    \n",
    "    # CRITICISM\n",
    "    ax.plot(*sess.run([x, pheads_post.prob(x)]));\n",
    "    \n",
    "    # RECURSION\n",
    "    if len(c_train[sample_shape:]) >= sample_shape:\n",
    "        go(pheads_post, sample_shape, c_train[sample_shape:])\n",
    "\n",
    "pheads_prior = Beta(concentration1=1.0, concentration0=1.0)\n",
    "ax.plot(*sess.run([x, pheads_prior.prob(x)]));  # blue\n",
    "plt.axvline(x=pheads_true);  # blue\n",
    "go(pheads_prior, 33, c_train)"
   ]
  },
  {
   "cell_type": "code",
   "execution_count": null,
   "metadata": {},
   "outputs": [],
   "source": []
  }
 ],
 "metadata": {
  "kernelspec": {
   "display_name": "Python 3",
   "language": "python",
   "name": "python3"
  },
  "language_info": {
   "codemirror_mode": {
    "name": "ipython",
    "version": 3
   },
   "file_extension": ".py",
   "mimetype": "text/x-python",
   "name": "python",
   "nbconvert_exporter": "python",
   "pygments_lexer": "ipython3",
   "version": "3.6.1"
  }
 },
 "nbformat": 4,
 "nbformat_minor": 2
}
